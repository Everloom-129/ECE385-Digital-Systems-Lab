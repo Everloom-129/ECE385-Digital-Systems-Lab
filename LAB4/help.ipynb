{
 "cells": [
  {
   "cell_type": "code",
   "execution_count": 5,
   "metadata": {},
   "outputs": [
    {
     "name": "stdout",
     "output_type": "stream",
     "text": [
      "File testbench.sv differs.\n",
      "File Synchronizers.sv differs.\n",
      "File Control.sv differs.\n",
      "File Router.sv differs.\n",
      "File compute.sv differs.\n",
      "File Reg_4.sv differs.\n",
      "File Processor.sv differs.\n",
      "File HexDriver.sv differs.\n",
      "File testbench_8.sv differs.\n",
      "File Register_unit.sv differs.\n",
      "10\n"
     ]
    }
   ],
   "source": [
    "import os\n",
    "import filecmp\n",
    "\n",
    "def compare_file_contents(folder1, folder2):\n",
    "    count = 0\n",
    "    \"\"\"Compare files with the same name in two folders and report if their contents differ.\"\"\"\n",
    "    files1 = set(os.listdir(folder1))\n",
    "    files2 = set(os.listdir(folder2))\n",
    "\n",
    "    common_files = files1.intersection(files2)\n",
    "\n",
    "    if not common_files:\n",
    "        print(\"No common files to compare.\")\n",
    "        return\n",
    "\n",
    "    for file in common_files:\n",
    "        file1 = os.path.join(folder1, file)\n",
    "        file2 = os.path.join(folder2, file)\n",
    "\n",
    "        if not filecmp.cmp(file1, file2, shallow=False):\n",
    "            print(f\"File {file} differs.\")\n",
    "            count += 1\n",
    "\n",
    "    print(count)\n",
    "\n",
    "\n",
    "folder1_path = './HJD/'\n",
    "folder2_path = './logic_processor/'\n",
    "compare_file_contents(folder1_path, folder2_path)\n"
   ]
  }
 ],
 "metadata": {
  "kernelspec": {
   "display_name": "base",
   "language": "python",
   "name": "python3"
  },
  "language_info": {
   "codemirror_mode": {
    "name": "ipython",
    "version": 3
   },
   "file_extension": ".py",
   "mimetype": "text/x-python",
   "name": "python",
   "nbconvert_exporter": "python",
   "pygments_lexer": "ipython3",
   "version": "3.9.12"
  }
 },
 "nbformat": 4,
 "nbformat_minor": 2
}
