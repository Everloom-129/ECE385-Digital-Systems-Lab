{
 "cells": [
  {
   "cell_type": "code",
   "execution_count": 3,
   "metadata": {},
   "outputs": [
    {
     "name": "stdout",
     "output_type": "stream",
     "text": [
      "7.5\n",
      "0-400ns\n",
      "400-800ns\n",
      "800-1200ns\n",
      "1200-1600ns\n",
      "1600-2000ns\n",
      "2000-2400ns\n",
      "2400-2800ns\n",
      "2800-3200ns\n"
     ]
    }
   ],
   "source": [
    "print(3000/400)\n",
    "for i in range(8):\n",
    "    print(f\"{400*i}-{400*(i+1)}ns\")"
   ]
  }
 ],
 "metadata": {
  "kernelspec": {
   "display_name": "base",
   "language": "python",
   "name": "python3"
  },
  "language_info": {
   "codemirror_mode": {
    "name": "ipython",
    "version": 3
   },
   "file_extension": ".py",
   "mimetype": "text/x-python",
   "name": "python",
   "nbconvert_exporter": "python",
   "pygments_lexer": "ipython3",
   "version": "3.9.16"
  }
 },
 "nbformat": 4,
 "nbformat_minor": 2
}
